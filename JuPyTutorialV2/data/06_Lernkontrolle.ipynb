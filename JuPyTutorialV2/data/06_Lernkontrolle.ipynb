{
 "cells": [
  {
   "cell_type": "code",
   "execution_count": 2,
   "metadata": {},
   "outputs": [
    {
     "data": {
      "application/vnd.jupyter.widget-view+json": {
       "model_id": "6303a9fa0c0b43e28f0b99a3244429d5",
       "version_major": 2,
       "version_minor": 0
      },
      "text/plain": [
       "VBox(children=(Output(), RadioButtons(options=(('1,2,3,4,5', 0), ('0,1,2,3,4,5', 1), ('0,1,2,3,4', 2), ('1,2,3…"
      ]
     },
     "metadata": {},
     "output_type": "display_data"
    },
    {
     "data": {
      "application/vnd.jupyter.widget-view+json": {
       "model_id": "8322b04dd59a4b0ebc5f551d0af3c55a",
       "version_major": 2,
       "version_minor": 0
      },
      "text/plain": [
       "VBox(children=(Output(), RadioButtons(options=(('1,3,5,7,9', 0), ('2,4,6,8', 1), ('2,4,6,8,10', 2), ('Keine da…"
      ]
     },
     "metadata": {},
     "output_type": "display_data"
    },
    {
     "data": {
      "application/vnd.jupyter.widget-view+json": {
       "model_id": "6a0c10a00512427d87502f5788994ced",
       "version_major": 2,
       "version_minor": 0
      },
      "text/plain": [
       "VBox(children=(Output(), RadioButtons(options=(('range(3)', 0), ('range(3,4)', 1), ('range(1,4,3)', 2), ('Alle…"
      ]
     },
     "metadata": {},
     "output_type": "display_data"
    },
    {
     "data": {
      "application/vnd.jupyter.widget-view+json": {
       "model_id": "cac739da018c456c8967ab6fa9aec02c",
       "version_major": 2,
       "version_minor": 0
      },
      "text/plain": [
       "VBox(children=(Output(), RadioButtons(options=(('4', 0), ('5', 1), ('10', 2), ('Keins davon.', 3)), value=0), …"
      ]
     },
     "metadata": {},
     "output_type": "display_data"
    },
    {
     "data": {
      "application/vnd.jupyter.widget-view+json": {
       "model_id": "e078f13a66c147da94d95d3ba47f82e8",
       "version_major": 2,
       "version_minor": 0
      },
      "text/plain": [
       "VBox(children=(Output(), RadioButtons(options=(('4', 0), ('5', 1), ('10', 2), ('Keins davon.', 3)), value=0), …"
      ]
     },
     "metadata": {},
     "output_type": "display_data"
    },
    {
     "data": {
      "application/vnd.jupyter.widget-view+json": {
       "model_id": "d1a8c820b29246aca163a36ec0801327",
       "version_major": 2,
       "version_minor": 0
      },
      "text/plain": [
       "VBox(children=(Output(), RadioButtons(options=(('2', 0), ('3', 1), ('4', 2), ('Die Ausgabe kann nicht 6 werden…"
      ]
     },
     "metadata": {},
     "output_type": "display_data"
    }
   ],
   "source": [
    "from questions import *\n",
    "\n",
    "\n",
    "Q1 = create_multipleChoice_widget_new('Welche der folgenden Reihen wird erstellt mit `range(5)`?','',['1,2,3,4,5','0,1,2,3,4,5','0,1,2,3,4','1,2,3,4'],'0,1,2,3,4')\n",
    "Q2 = create_multipleChoice_widget_new('Welche der folgenden Reihen wird erstellt mit `range(1,10,2)`?','',['1,3,5,7,9','2,4,6,8','2,4,6,8,10','Keine davon.'],'1,3,5,7,9')\n",
    "Q3 = create_multipleChoice_widget_new('Welcher `range()`-Befehl erstellt eine Reihe nur mit der Zahl 3?','',['range(3)','range(3,4)','range(1,4,3)','Alle davon.'],'range(3,4)')\n",
    "Q4 = create_multipleChoice_widget_new(\"Was ist die Ausgabe von folgendem Code-Segment?\",\n",
    "'''wert=0\n",
    "for i in range(1,5):\n",
    "    wert=wert+i\n",
    "print(wert)''',['4','5','10','Keins davon.'],'10')\n",
    "Q5 = create_multipleChoice_widget_new(\"Was ist die Ausgabe von folgendem Code-Segment?\",\n",
    "'''wert=0\n",
    "for i in range(1,5):\n",
    "    wert=wert+i\n",
    "print(i)''',['4','5','10','Keins davon.'],'4')\n",
    "Q6 = create_multipleChoice_widget_new('Ersetzen Sie in obigem Code nur die Schrittweite.#nWelche Schrittweite von `range()` muss im vorherigen Code eingesetzt werden, damit die Ausgabe 6 wird?','',\n",
    "                                  ['2','3','4','Die Ausgabe kann nicht 6 werden.'],'Die Ausgabe kann nicht 6 werden.')\n",
    "\n",
    "display(Q1)\n",
    "display(Q2)\n",
    "display(Q3)\n",
    "display(Q4)\n",
    "display(Q5)\n",
    "display(Q6)\n"
   ]
  },
  {
   "cell_type": "code",
   "execution_count": null,
   "metadata": {},
   "outputs": [],
   "source": []
  }
 ],
 "metadata": {
  "kernelspec": {
   "display_name": "Python 3 (ipykernel)",
   "language": "python",
   "name": "python3"
  },
  "language_info": {
   "codemirror_mode": {
    "name": "ipython",
    "version": 3
   },
   "file_extension": ".py",
   "mimetype": "text/x-python",
   "name": "python",
   "nbconvert_exporter": "python",
   "pygments_lexer": "ipython3",
   "version": "3.9.13"
  }
 },
 "nbformat": 4,
 "nbformat_minor": 4
}
